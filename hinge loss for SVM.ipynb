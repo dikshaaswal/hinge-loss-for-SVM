{
 "cells": [
  {
   "cell_type": "code",
   "execution_count": 16,
   "metadata": {},
   "outputs": [],
   "source": [
    "#SVM - linear kernel"
   ]
  },
  {
   "cell_type": "code",
   "execution_count": 17,
   "metadata": {},
   "outputs": [],
   "source": [
    "import csv\n",
    "import pandas as pd\n",
    "import numpy as np\n",
    "import matplotlib.pyplot as plt\n",
    "import random\n",
    "from sklearn.metrics import accuracy_score\n",
    "from sklearn.metrics import confusion_matrix"
   ]
  },
  {
   "cell_type": "code",
   "execution_count": 18,
   "metadata": {},
   "outputs": [],
   "source": [
    "data = pd.read_csv(\"iris.data\", header = None)\n",
    "data = data.replace({'Iris-setosa': 0, 'Iris-versicolor': 1})\n",
    "r = list(range(100,150))\n",
    "data = data.drop(data.index[r])"
   ]
  },
  {
   "cell_type": "code",
   "execution_count": 19,
   "metadata": {},
   "outputs": [],
   "source": [
    "X = np.array(data)\n",
    "X = X[:,[2,3,4]]"
   ]
  },
  {
   "cell_type": "code",
   "execution_count": 20,
   "metadata": {},
   "outputs": [
    {
     "data": {
      "image/png": "[encoded data removed]",
      "text/plain": [
       "<Figure size 432x288 with 1 Axes>"
      ]
     },
     "metadata": {},
     "output_type": "display_data"
    }
   ],
   "source": [
    "for i in range(len(X)):\n",
    "    if X[i][-1] == 0:\n",
    "        plt.scatter(X[i][0], X[i][1], s=120, marker='_', color = 'blue')\n",
    "    else:\n",
    "        plt.scatter(X[i][0], X[i][1], s=120, marker='+', color = 'black')\n",
    "        \n",
    "# Red line is how it will look like...\n",
    "plt.xlabel(\"sepal length\")\n",
    "plt.ylabel(\"sepal width\")\n",
    "\n",
    "plt.show()"
   ]
  },
  {
   "cell_type": "code",
   "execution_count": 6,
   "metadata": {},
   "outputs": [
    {
     "data": {
      "text/plain": [
       "(100, 4)"
      ]
     },
     "execution_count": 6,
     "metadata": {},
     "output_type": "execute_result"
    }
   ],
   "source": [
    "z = np.ones((len(X),1))\n",
    "X = np.append(z, X, axis = 1)"
   ]
  },
  {
   "cell_type": "code",
   "execution_count": 15,
   "metadata": {},
   "outputs": [],
   "source": [
    "random.shuffle(X)\n",
    "X_train = X[:90, :]\n",
    "X_test = X[90: , : ]\n",
    "Y_train = X[:90, -1]\n",
    "Y_test = X[90:, -1]\n",
    "X_test.shape\n",
    "Y_train=Y_train.astype('int')\n",
    "Y_test=Y_test.astype('int')"
   ]
  },
  {
   "cell_type": "code",
   "execution_count": 8,
   "metadata": {},
   "outputs": [
    {
     "data": {
      "text/plain": [
       "(90, 3)"
      ]
     },
     "execution_count": 8,
     "metadata": {},
     "output_type": "execute_result"
    }
   ],
   "source": [
    "X_train = X_train[:,[0,1,2]]\n",
    "X_test = X_test[:,[0,1,2]]\n",
    "Y_train = np.array(Y_train)\n",
    "Y_test = np.array(Y_test)\n",
    "Y_test = Y_test.reshape(len(Y_test),1)\n",
    "Y_train = Y_train.reshape(len(Y_train),1)\n",
    "X_train.shape\n",
    "#90 for training 10 for test"
   ]
  },
  {
   "cell_type": "code",
   "execution_count": 9,
   "metadata": {},
   "outputs": [],
   "source": [
    "def training_data(X_train, theta, Y_train, no_of_epochs, alpha):\n",
    "    for epoch in range(1,no_of_epochs):\n",
    "        h = np.dot(X_train, theta)\n",
    "        product = h*Y_train\n",
    "        i = 0\n",
    "        for p in product:\n",
    "            if p > 1:\n",
    "                cost = 0;\n",
    "                theta = theta - alpha*(2*theta*(1/no_of_epochs))\n",
    "            else:\n",
    "                cost = 1 - p\n",
    "                L = (X_train[i,:]*Y_train[i])\n",
    "                L = L.reshape(len(L),1)\n",
    "                theta = theta + alpha * (L- (2*(1/no_of_epochs)*theta))\n",
    "                theta = np.array(theta, np.float64)\n",
    "            i = i + 1\n",
    "    return cost,theta"
   ]
  },
  {
   "cell_type": "code",
   "execution_count": 10,
   "metadata": {},
   "outputs": [],
   "source": [
    "def predict(X_test, theta) :\n",
    "    y_pred = np.dot(X_test, theta)\n",
    "    predictions = []\n",
    "    y_pred.shape\n",
    "    for val in y_pred:\n",
    "        if(val > 1):\n",
    "            predictions.append(1)\n",
    "        else:\n",
    "            predictions.append(0)\n",
    "    return predictions"
   ]
  },
  {
   "cell_type": "code",
   "execution_count": 11,
   "metadata": {},
   "outputs": [
    {
     "name": "stdout",
     "output_type": "stream",
     "text": [
      "Accuracy\n",
      "1.0\n"
     ]
    }
   ],
   "source": [
    "theta = np.zeros((len(X_train[0]),1))\n",
    "no_of_epochs = 100\n",
    "alpha = 0.001\n",
    "cost, theta = training_data(X_train,theta, Y_train, no_of_epochs, alpha)\n",
    "predictions = []\n",
    "predictions = predict(X_test, theta)\n",
    "print(\"Accuracy\")\n",
    "print(accuracy_score(Y_test,predictions))"
   ]
  },
  {
   "cell_type": "code",
   "execution_count": 12,
   "metadata": {},
   "outputs": [
    {
     "data": {
      "text/plain": [
       "array([[7, 0],\n",
       "       [0, 3]], dtype=int64)"
      ]
     },
     "execution_count": 12,
     "metadata": {},
     "output_type": "execute_result"
    }
   ],
   "source": [
    "confusion_matrix(predictions,Y_test)"
   ]
  },
  {
   "cell_type": "code",
   "execution_count": 14,
   "metadata": {},
   "outputs": [
    {
     "name": "stdout",
     "output_type": "stream",
     "text": [
      "100\n"
     ]
    },
    {
     "data": {
      "image/png": "[encoded data removed]",
      "text/plain": [
       "<Figure size 432x288 with 1 Axes>"
      ]
     },
     "metadata": {},
     "output_type": "display_data"
    }
   ],
   "source": [
    "R = X[:,[0,1,2]]\n",
    "h = np.dot(R,theta)\n",
    "print(len(X))\n",
    "for i in range(len(X)):\n",
    "    if X[i][-1] == 0:\n",
    "        plt.scatter(X[i][1], X[i][2], s=120, marker='_', color = 'blue')\n",
    "    else:\n",
    "        plt.scatter(X[i][1], X[i][2], s=120, marker='+', color = 'black')\n",
    "h = h.tolist()\n",
    "# Red line is how it will look like...\n",
    "plt.xlabel(\"sepal length\")\n",
    "plt.ylabel(\"sepal width\")\n",
    "plt.plot([max(X[:,1]), min(X[:,1])], [min(h), max(h)], color='red') # predicted\n",
    "plt.show()"
   ]
  },
  {
   "cell_type": "code",
   "execution_count": null,
   "metadata": {},
   "outputs": [],
   "source": []
  },
  {
   "cell_type": "code",
   "execution_count": null,
   "metadata": {},
   "outputs": [],
   "source": []
  }
 ],
 "metadata": {
  "kernelspec": {
   "display_name": "Python 3",
   "language": "python",
   "name": "python3"
  },
  "language_info": {
   "codemirror_mode": {
    "name": "ipython",
    "version": 3
   },
   "file_extension": ".py",
   "mimetype": "text/x-python",
   "name": "python",
   "nbconvert_exporter": "python",
   "pygments_lexer": "ipython3",
   "version": "3.6.5"
  }
 },
 "nbformat": 4,
 "nbformat_minor": 2
}
